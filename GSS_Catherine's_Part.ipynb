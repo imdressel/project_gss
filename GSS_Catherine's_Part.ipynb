{
  "nbformat": 4,
  "nbformat_minor": 0,
  "metadata": {
    "colab": {
      "provenance": [],
      "authorship_tag": "ABX9TyPqB1ixSfja4kxzKTIutn2a",
      "include_colab_link": true
    },
    "kernelspec": {
      "name": "python3",
      "display_name": "Python 3"
    },
    "language_info": {
      "name": "python"
    }
  },
  "cells": [
    {
      "cell_type": "markdown",
      "metadata": {
        "id": "view-in-github",
        "colab_type": "text"
      },
      "source": [
        "<a href=\"https://colab.research.google.com/github/imdressel/project_gss17/blob/main/GSS_Catherine's_Part.ipynb\" target=\"_parent\"><img src=\"https://colab.research.google.com/assets/colab-badge.svg\" alt=\"Open In Colab\"/></a>"
      ]
    },
    {
      "cell_type": "code",
      "execution_count": null,
      "metadata": {
        "id": "s3okviCWgeOO"
      },
      "outputs": [],
      "source": [
        "# comparing Marital status and Emotion (happy/sad) – HLTHDEP\n",
        "import pandas as pd\n"
      ]
    }
  ]
}