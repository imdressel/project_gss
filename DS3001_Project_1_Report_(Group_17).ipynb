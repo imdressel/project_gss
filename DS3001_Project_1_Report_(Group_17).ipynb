{
  "nbformat": 4,
  "nbformat_minor": 0,
  "metadata": {
    "colab": {
      "provenance": [],
      "include_colab_link": true
    },
    "kernelspec": {
      "name": "python3",
      "display_name": "Python 3"
    },
    "language_info": {
      "name": "python"
    }
  },
  "cells": [
    {
      "cell_type": "markdown",
      "metadata": {
        "id": "view-in-github",
        "colab_type": "text"
      },
      "source": [
        "<a href=\"https://colab.research.google.com/github/imdressel/project_gss17/blob/main/DS3001_Project_1_Report_(Group_17).ipynb\" target=\"_parent\"><img src=\"https://colab.research.google.com/assets/colab-badge.svg\" alt=\"Open In Colab\"/></a>"
      ]
    },
    {
      "cell_type": "markdown",
      "source": [
        "Isabella Dressel, Camila Gutierrez, Catherine Nguyen, Rhiannon Staley\n",
        "\n",
        "DS3001 Project 1 (Group 17)\n",
        "\n",
        "\n"
      ],
      "metadata": {
        "id": "iinm4rHiVEE1"
      }
    },
    {
      "cell_type": "markdown",
      "source": [
        "1) **Summary:** A one paragraph description of the question, methods, and results (about 350 words).\n"
      ],
      "metadata": {
        "id": "VMsrcNm5VVl-"
      }
    },
    {
      "cell_type": "markdown",
      "source": [
        "\n",
        "\n",
        "*   All\n",
        "\n"
      ],
      "metadata": {
        "id": "q9qjT9n2DAPu"
      }
    },
    {
      "cell_type": "markdown",
      "source": [
        "\n",
        "2) **Data:** One to two pages discussing the data and key variables in the analysis, and any challenges in reading, cleaning, and preparing them for analysis.\n",
        "\n",
        "The data used was from the General Seocial Survey (GSS) which is a personal-interview survey of US adults from over five decades since 1972 to understand changes in opinions and perspectives over time. The survey focuses on topics ranging from human rights to marlality and mental health. Our specific question was to understand correlations between factors affecting work-life balance. Two variables were used to examine the work component were \"hrs1\" and \"conrinc\". The hrs1 variable asked that, if a participant was working full or part time, how many hours they worked the previous week in categories ranging from 0 to 59 hours. The conrinc variable examined the inflation-adjusted personal income from $0-999,999. To understand the life side of this balance three variables were utilized: marital, childs, and meovrwrk. Marital looked if the participants were currently married, widowed, divorced, separated, or had never been married. The childs variable evaluated how many children an individual had ever had, counting all that were born alive at any time. Finally, meovrwrk noted how much individuals agreed or disagreed with the statement that their family life often suffers because men concentrate too much on their work. The timeline we decided to look at was 2018 and 2022 to contrast possible differences in family dynamics before and after the pandemic.\n",
        "\n",
        "\n",
        "**Challenges (can delete this heading later)**\n",
        "\n",
        "While reading, cleaning and preparing the dataset, many challenges arose that we were not expecting including figuring out how we wanted to subset and extract data from the original dataset, and making sure the variables were prepped and ready for visualization.\n",
        "\n",
        "Cleaning the data starts with figuring out what part of the data should be analyzed. In other words, deciding on what years of the survey to subset, narrow done and focus on. This depended on the central questions being asked. As a group, it was important for us to figure out what data-driven questions and answers we were looking for. We asked ourselves, was there a specfic point in time that we wanted to further examine? We also quickly learned by a quick scan through the data that many years had missing data for the variables we were looking at. This was due to factors such as COVID and because the surveys were simply not conducted during those years. We ultimately decided on subesetting to two years, 2018 and 2022 data. We skippped COVID years (2019 and 2022) as there was a lack of data for our variables being analyzed and would not result in any valuable conclusions.\n",
        "\n",
        "After deciding on subsetting on the years 2018 and 2022, we needed to extract the data and append the subset into three parquets. The original dataset was split into 3 chunks and then merged into one csv file. When reading in the csv file and looking at the dataframe, we noticed that everytime a chunk was appended to the previous chunk, an extra row of column names was added to the dataframe. This extra row was uneccesary because it created an extra 'object' datatype value in each column. To solve this issue, we subsetted that specific row out.\n",
        "\n",
        "Another challenge was finding variables to analyze that were appropriate and would allow for analyzation. Once we decided on our variables, we had to make sure those variables were prepped for vizualization. We did this by casting variables to necessary datatypes. For example, we casted the 'year' variable from an object to numeric datatype which helped subset the data by setting the dataframe to == the years 2018 and 2022. One variable that we were considering was Emotion (happy/sad), known in the survey under the variable name HLTHDEP. Looking further into this variable, it became clear that there was not a lot of data on this variable. The HLTHDEP variable only had data from the year 2022. This would make it difficult to do any cross comparison between the two years we were looking at, 2018 and 2022, so we ultimately decided not to use this variable.\n",
        "While deciding on variables we wanted to analyze, we wanted to see how much data was available for each variable. It was common to have data for some variables but Nan values for other variables in a given row. This was due to some variables not being surveyed that year/during that time period. Ultimately, we decided to keep rows with Nan values, because if we didn't this would significantly decrease the subset of rows we could analyze. While some variables were Nan, others weren't, so taking out these rows would be detrimental as we would be uncessarily taking out important data."
      ],
      "metadata": {
        "id": "OjIVwE8uV1cu"
      }
    },
    {
      "cell_type": "markdown",
      "source": [
        "\n",
        "3) **Results:** Two to five pages providing visualizations, statistics, and a discussion of your findings. If you have a lot of plots or tables, that’s OK, but try to focus on a few key pieces of evidence rather than doing every single pairwise comparison of some set of variables.\n",
        "\n"
      ],
      "metadata": {
        "id": "X581qoVaV3Lp"
      }
    },
    {
      "cell_type": "markdown",
      "source": [
        "\n",
        "\n",
        "*   ID, RS\n",
        "\n"
      ],
      "metadata": {
        "id": "HiTAvhd2Ccbu"
      }
    },
    {
      "cell_type": "markdown",
      "source": [
        "\n",
        "4) **Conclusion:** One to two pages summarizing the project, defending it from criticism, and suggesting additional work that was outside the scope of the project.\n",
        "\n"
      ],
      "metadata": {
        "id": "QS_7lwdQV4sZ"
      }
    },
    {
      "cell_type": "markdown",
      "source": [
        "\n",
        "\n",
        "*   ID, CG (future work)\n",
        "\n"
      ],
      "metadata": {
        "id": "ySZ6MOexB_Rx"
      }
    },
    {
      "cell_type": "markdown",
      "source": [
        "5) **Appendix:** If you have a significant number of additional plots or tables that you feel are essential to\n",
        "the project, you can put any amount of extra content at the end and reference it from the body of the\n",
        "paper."
      ],
      "metadata": {
        "id": "tvjKaBWhV6R7"
      }
    },
    {
      "cell_type": "code",
      "source": [],
      "metadata": {
        "id": "9UZfL-qmVU4G"
      },
      "execution_count": null,
      "outputs": []
    }
  ]
}