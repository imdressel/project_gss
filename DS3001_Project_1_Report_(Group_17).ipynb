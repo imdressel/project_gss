{
  "nbformat": 4,
  "nbformat_minor": 0,
  "metadata": {
    "colab": {
      "provenance": [],
      "include_colab_link": true
    },
    "kernelspec": {
      "name": "python3",
      "display_name": "Python 3"
    },
    "language_info": {
      "name": "python"
    }
  },
  "cells": [
    {
      "cell_type": "markdown",
      "metadata": {
        "id": "view-in-github",
        "colab_type": "text"
      },
      "source": [
        "<a href=\"https://colab.research.google.com/github/imdressel/project_gss17/blob/main/DS3001_Project_1_Report_(Group_17).ipynb\" target=\"_parent\"><img src=\"https://colab.research.google.com/assets/colab-badge.svg\" alt=\"Open In Colab\"/></a>"
      ]
    },
    {
      "cell_type": "markdown",
      "source": [
        "Isabella Dressel, Camila Gutierrez, Catherine Nguyen, Rhiannon Staley\n",
        "\n",
        "DS3001 Project 1 (Group 17)\n",
        "\n",
        "\n"
      ],
      "metadata": {
        "id": "iinm4rHiVEE1"
      }
    },
    {
      "cell_type": "markdown",
      "source": [
        "1) **Summary:** A one paragraph description of the question, methods, and results (about 350 words).\n",
        "\n",
        "* All of us during Sunday meeting"
      ],
      "metadata": {
        "id": "VMsrcNm5VVl-"
      }
    },
    {
      "cell_type": "markdown",
      "source": [
        "\n",
        "2) **Data:** One to two pages discussing the data and key variables in the analysis, and any challenges in\n",
        "reading, cleaning, and preparing them for analysis.\n",
        "\n",
        "*   Camila - key variable analysis\n",
        "*   Catherine - challenges in cleaning\n",
        "\n"
      ],
      "metadata": {
        "id": "OjIVwE8uV1cu"
      }
    },
    {
      "cell_type": "markdown",
      "source": [
        "\n",
        "3) **Results:** Two to five pages providing visualizations, statistics, and a discussion of your findings. If you have a lot of plots or tables, that’s OK, but try to focus on a few key pieces of evidence rather than doing every single pairwise comparison of some set of variables.\n",
        "\n",
        "* Rhi and Isabella"
      ],
      "metadata": {
        "id": "X581qoVaV3Lp"
      }
    },
    {
      "cell_type": "markdown",
      "source": [
        "\n",
        "4) **Conclusion:** One to two pages summarizing the project, defending it from criticism, and suggesting additional work that was outside the scope of the project.\n",
        "\n",
        "* Rhi and Isabella\n"
      ],
      "metadata": {
        "id": "QS_7lwdQV4sZ"
      }
    },
    {
      "cell_type": "markdown",
      "source": [
        "5) **Appendix:** If you have a significant number of additional plots or tables that you feel are essential to\n",
        "the project, you can put any amount of extra content at the end and reference it from the body of the\n",
        "paper."
      ],
      "metadata": {
        "id": "tvjKaBWhV6R7"
      }
    },
    {
      "cell_type": "code",
      "source": [],
      "metadata": {
        "id": "9UZfL-qmVU4G"
      },
      "execution_count": null,
      "outputs": []
    }
  ]
}